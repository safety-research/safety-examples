{
 "cells": [
  {
   "cell_type": "code",
   "execution_count": null,
   "metadata": {},
   "outputs": [],
   "source": [
    "import os\n",
    "import sys\n",
    "\n",
    "sys.path.append(os.path.abspath('./safety-tooling'))\n"
   ]
  },
  {
   "cell_type": "code",
   "execution_count": null,
   "metadata": {},
   "outputs": [],
   "source": [
    "import pathlib\n",
    "\n",
    "from safetytooling.apis import InferenceAPI\n",
    "from safetytooling.data_models import ChatMessage, MessageRole, Prompt\n",
    "from safetytooling.utils import utils\n",
    "\n",
    "utils.setup_environment(logging_level=\"warning\", openai_tag=\"OPENAI_API_KEY1\", anthropic_tag=\"ANTHROPIC_API_KEY_BATCH\")\n",
    "\n",
    "HOME_DIR = pathlib.Path.home()\n",
    "\n",
    "API = InferenceAPI(cache_dir=HOME_DIR / \".cache\")\n",
    "API_NO_CACHE = InferenceAPI(cache_dir=None)"
   ]
  },
  {
   "cell_type": "code",
   "execution_count": null,
   "metadata": {},
   "outputs": [],
   "source": [
    "from safetytooling.utils.image_utils import (\n",
    "    display_image_without_frame,\n",
    "    get_default_image,\n",
    "    load_image_from_file,\n",
    "    save_image_from_array,\n",
    ")\n",
    "\n",
    "image = get_default_image(\"Tell me a joke, make it ai safety related\")\n",
    "display_image_without_frame(image)"
   ]
  },
  {
   "cell_type": "code",
   "execution_count": null,
   "metadata": {},
   "outputs": [],
   "source": [
    "# save and load image\n",
    "save_image_from_array(image, str(HOME_DIR / \"joke.png\"))\n",
    "image = load_image_from_file(str(HOME_DIR / \"joke.png\"))\n",
    "display_image_without_frame(image)"
   ]
  },
  {
   "cell_type": "code",
   "execution_count": null,
   "metadata": {},
   "outputs": [],
   "source": [
    "prompt = Prompt(messages=[\n",
    "    ChatMessage(content=str(HOME_DIR / \"joke.png\"), role=MessageRole.image),\n",
    "    ChatMessage(content=\"Follow the instructions and generate an image\", role=MessageRole.user)\n",
    "])\n",
    "\n",
    "response = await API_NO_CACHE(\n",
    "    model_ids=\"gpt-4o-mini\",\n",
    "    prompt=prompt,\n",
    "    print_prompt_and_response=True,\n",
    "    max_attempts_per_api_call=1,\n",
    ")"
   ]
  },
  {
   "cell_type": "code",
   "execution_count": null,
   "metadata": {},
   "outputs": [],
   "source": []
  }
 ],
 "metadata": {
  "kernelspec": {
   "display_name": "Python 3",
   "language": "python",
   "name": "python3"
  },
  "language_info": {
   "codemirror_mode": {
    "name": "ipython",
    "version": 3
   },
   "file_extension": ".py",
   "mimetype": "text/x-python",
   "name": "python",
   "nbconvert_exporter": "python",
   "pygments_lexer": "ipython3",
   "version": "3.11.7"
  }
 },
 "nbformat": 4,
 "nbformat_minor": 2
}
